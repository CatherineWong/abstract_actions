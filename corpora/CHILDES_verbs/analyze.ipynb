{
 "cells": [
  {
   "cell_type": "code",
   "execution_count": 18,
   "metadata": {},
   "outputs": [],
   "source": [
    "import pandas as pd\n",
    "%matplotlib inline\n",
    "import matplotlib.pyplot as plt"
   ]
  },
  {
   "cell_type": "code",
   "execution_count": 21,
   "metadata": {},
   "outputs": [],
   "source": [
    "all_verbs = pd.read_csv(\"verbs.tsv\", sep=\"\\t\")"
   ]
  },
  {
   "cell_type": "code",
   "execution_count": 22,
   "metadata": {},
   "outputs": [
    {
     "data": {
      "text/html": [
       "<div>\n",
       "<style scoped>\n",
       "    .dataframe tbody tr th:only-of-type {\n",
       "        vertical-align: middle;\n",
       "    }\n",
       "\n",
       "    .dataframe tbody tr th {\n",
       "        vertical-align: top;\n",
       "    }\n",
       "\n",
       "    .dataframe thead th {\n",
       "        text-align: right;\n",
       "    }\n",
       "</style>\n",
       "<table border=\"1\" class=\"dataframe\">\n",
       "  <thead>\n",
       "    <tr style=\"text-align: right;\">\n",
       "      <th></th>\n",
       "      <th>id</th>\n",
       "      <th>gloss</th>\n",
       "      <th>substring_index(t.stem, '-', 1)</th>\n",
       "      <th>relation</th>\n",
       "      <th>speaker_code</th>\n",
       "      <th>target_child_id</th>\n",
       "      <th>target_child_age</th>\n",
       "    </tr>\n",
       "  </thead>\n",
       "  <tbody>\n",
       "    <tr>\n",
       "      <th>0</th>\n",
       "      <td>10</td>\n",
       "      <td>want</td>\n",
       "      <td>want</td>\n",
       "      <td>1|0|ROOT</td>\n",
       "      <td>INV</td>\n",
       "      <td>1</td>\n",
       "      <td>806.5</td>\n",
       "    </tr>\n",
       "    <tr>\n",
       "      <th>1</th>\n",
       "      <td>77</td>\n",
       "      <td>have</td>\n",
       "      <td>have</td>\n",
       "      <td>5|0|ROOT</td>\n",
       "      <td>INV</td>\n",
       "      <td>1</td>\n",
       "      <td>822.5</td>\n",
       "    </tr>\n",
       "    <tr>\n",
       "      <th>2</th>\n",
       "      <td>81</td>\n",
       "      <td>makes</td>\n",
       "      <td>make</td>\n",
       "      <td>7|4|CMOD</td>\n",
       "      <td>INV</td>\n",
       "      <td>1</td>\n",
       "      <td>806.5</td>\n",
       "    </tr>\n",
       "    <tr>\n",
       "      <th>3</th>\n",
       "      <td>92</td>\n",
       "      <td>fall</td>\n",
       "      <td>fall</td>\n",
       "      <td>2|6|SUBJ</td>\n",
       "      <td>INV</td>\n",
       "      <td>1</td>\n",
       "      <td>822.5</td>\n",
       "    </tr>\n",
       "    <tr>\n",
       "      <th>4</th>\n",
       "      <td>93</td>\n",
       "      <td>does</td>\n",
       "      <td>do</td>\n",
       "      <td>2|5|CJCT</td>\n",
       "      <td>INV</td>\n",
       "      <td>1</td>\n",
       "      <td>806.5</td>\n",
       "    </tr>\n",
       "  </tbody>\n",
       "</table>\n",
       "</div>"
      ],
      "text/plain": [
       "   id  gloss substring_index(t.stem, '-', 1)  relation speaker_code  \\\n",
       "0  10   want                            want  1|0|ROOT          INV   \n",
       "1  77   have                            have  5|0|ROOT          INV   \n",
       "2  81  makes                            make  7|4|CMOD          INV   \n",
       "3  92   fall                            fall  2|6|SUBJ          INV   \n",
       "4  93   does                              do  2|5|CJCT          INV   \n",
       "\n",
       "   target_child_id  target_child_age  \n",
       "0                1             806.5  \n",
       "1                1             822.5  \n",
       "2                1             806.5  \n",
       "3                1             822.5  \n",
       "4                1             806.5  "
      ]
     },
     "execution_count": 22,
     "metadata": {},
     "output_type": "execute_result"
    }
   ],
   "source": [
    "all_verbs.head()"
   ]
  },
  {
   "cell_type": "code",
   "execution_count": 24,
   "metadata": {},
   "outputs": [
    {
     "data": {
      "text/html": [
       "<div>\n",
       "<style scoped>\n",
       "    .dataframe tbody tr th:only-of-type {\n",
       "        vertical-align: middle;\n",
       "    }\n",
       "\n",
       "    .dataframe tbody tr th {\n",
       "        vertical-align: top;\n",
       "    }\n",
       "\n",
       "    .dataframe thead th {\n",
       "        text-align: right;\n",
       "    }\n",
       "</style>\n",
       "<table border=\"1\" class=\"dataframe\">\n",
       "  <thead>\n",
       "    <tr style=\"text-align: right;\">\n",
       "      <th></th>\n",
       "      <th>id</th>\n",
       "      <th>gloss</th>\n",
       "      <th>stem</th>\n",
       "      <th>relation</th>\n",
       "      <th>speaker_code</th>\n",
       "      <th>target_child_id</th>\n",
       "      <th>target_child_age</th>\n",
       "    </tr>\n",
       "  </thead>\n",
       "  <tbody>\n",
       "    <tr>\n",
       "      <th>0</th>\n",
       "      <td>10</td>\n",
       "      <td>want</td>\n",
       "      <td>want</td>\n",
       "      <td>1|0|ROOT</td>\n",
       "      <td>INV</td>\n",
       "      <td>1</td>\n",
       "      <td>806.5</td>\n",
       "    </tr>\n",
       "    <tr>\n",
       "      <th>1</th>\n",
       "      <td>77</td>\n",
       "      <td>have</td>\n",
       "      <td>have</td>\n",
       "      <td>5|0|ROOT</td>\n",
       "      <td>INV</td>\n",
       "      <td>1</td>\n",
       "      <td>822.5</td>\n",
       "    </tr>\n",
       "    <tr>\n",
       "      <th>2</th>\n",
       "      <td>81</td>\n",
       "      <td>makes</td>\n",
       "      <td>make</td>\n",
       "      <td>7|4|CMOD</td>\n",
       "      <td>INV</td>\n",
       "      <td>1</td>\n",
       "      <td>806.5</td>\n",
       "    </tr>\n",
       "    <tr>\n",
       "      <th>3</th>\n",
       "      <td>92</td>\n",
       "      <td>fall</td>\n",
       "      <td>fall</td>\n",
       "      <td>2|6|SUBJ</td>\n",
       "      <td>INV</td>\n",
       "      <td>1</td>\n",
       "      <td>822.5</td>\n",
       "    </tr>\n",
       "    <tr>\n",
       "      <th>4</th>\n",
       "      <td>93</td>\n",
       "      <td>does</td>\n",
       "      <td>do</td>\n",
       "      <td>2|5|CJCT</td>\n",
       "      <td>INV</td>\n",
       "      <td>1</td>\n",
       "      <td>806.5</td>\n",
       "    </tr>\n",
       "  </tbody>\n",
       "</table>\n",
       "</div>"
      ],
      "text/plain": [
       "   id  gloss  stem  relation speaker_code  target_child_id  target_child_age\n",
       "0  10   want  want  1|0|ROOT          INV                1             806.5\n",
       "1  77   have  have  5|0|ROOT          INV                1             822.5\n",
       "2  81  makes  make  7|4|CMOD          INV                1             806.5\n",
       "3  92   fall  fall  2|6|SUBJ          INV                1             822.5\n",
       "4  93   does    do  2|5|CJCT          INV                1             806.5"
      ]
     },
     "execution_count": 24,
     "metadata": {},
     "output_type": "execute_result"
    }
   ],
   "source": [
    "all_verbs.rename(columns={all_verbs.columns[2]: \"stem\"}, inplace=True)\n",
    "all_verbs.head()"
   ]
  },
  {
   "cell_type": "code",
   "execution_count": 26,
   "metadata": {},
   "outputs": [],
   "source": [
    "counts_by_child = all_verbs.groupby(\"target_child_id\").stem.value_counts(normalize=True)\n",
    "mean_rel_freqs = counts_by_child.mean(level=\"stem\")\n",
    "mean_rel_freqs.to_csv(\"verb_freqs.tsv\", sep=\"\\t\")"
   ]
  },
  {
   "cell_type": "markdown",
   "metadata": {},
   "source": [
    "## Corpus data"
   ]
  },
  {
   "cell_type": "markdown",
   "metadata": {},
   "source": [
    "    Corpus\t\t\t\tAge Range\tN\tMedia\tComments\n",
    "    Bohannon\t\t\t2;8 and 3;0\t2\t-\t\tchildren interacting with different adults\n",
    "    Clark\t\t\t\t2;2-3;2\t\t1\t-\t\ttranscripts with attention to disfluencies\n",
    "    Demetras - Trevor\t2;0-3;11\t1\t-\t\tfather-son interactions\n",
    "    Demetras - Working\t2;0-2;6\t\t3\t-\t\t2 weeks of recording for each child\n",
    "    Morisset\t\t\t2;6\t\t\t206\t-\t\tchildren of welfare mothers at three sites\n",
    "    Nelson\t\t\t\t1;9-3;0\t\t1\taudio\tbedtime monologues, linked"
   ]
  }
 ],
 "metadata": {
  "kernelspec": {
   "display_name": "Python 3",
   "language": "python",
   "name": "python3"
  },
  "language_info": {
   "codemirror_mode": {
    "name": "ipython",
    "version": 3
   },
   "file_extension": ".py",
   "mimetype": "text/x-python",
   "name": "python",
   "nbconvert_exporter": "python",
   "pygments_lexer": "ipython3",
   "version": "3.6.8"
  }
 },
 "nbformat": 4,
 "nbformat_minor": 2
}
